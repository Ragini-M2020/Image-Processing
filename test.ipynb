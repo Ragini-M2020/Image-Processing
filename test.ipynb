{
 "cells": [
  {
   "cell_type": "code",
   "execution_count": 6,
   "metadata": {},
   "outputs": [
    {
     "name": "stdout",
     "output_type": "stream",
     "text": [
      "4.7.0\n"
     ]
    }
   ],
   "source": [
    "import cv2\n",
    "print(cv2.__version__)"
   ]
  },
  {
   "attachments": {},
   "cell_type": "markdown",
   "metadata": {},
   "source": [
    "#Opening the image and resizew it"
   ]
  },
  {
   "cell_type": "code",
   "execution_count": 25,
   "metadata": {},
   "outputs": [],
   "source": [
    "path =r\"\"\"D:\\WEB-D\\New folder\\img\"\"\"\n",
    "img_n = \"a.jpg\"\n",
    "x = cv2.imread(path+\"\\\\\"+img_n)\n",
    "y = cv2.resize(x,(1100,600)) # We are resizing the img.\n",
    "cv2.imshow(\"This is my first img\",y)\n",
    "cv2.waitKey(0)\n",
    "cv2.destroyAllWindows()"
   ]
  },
  {
   "cell_type": "code",
   "execution_count": null,
   "metadata": {},
   "outputs": [],
   "source": []
  },
  {
   "cell_type": "markdown",
   "metadata": {},
   "source": [
    "#creating a slideshow"
   ]
  },
  {
   "cell_type": "code",
   "execution_count": 26,
   "metadata": {},
   "outputs": [],
   "source": [
    "import os"
   ]
  },
  {
   "cell_type": "code",
   "execution_count": 27,
   "metadata": {},
   "outputs": [
    {
     "name": "stdout",
     "output_type": "stream",
     "text": [
      "['a.jpg', 'b..jpg', 'c.jpg', 'd.jpg', 'e.jpg']\n"
     ]
    }
   ],
   "source": [
    "a = os.listdir(path)\n",
    "print(a)"
   ]
  },
  {
   "cell_type": "code",
   "execution_count": 30,
   "metadata": {},
   "outputs": [],
   "source": [
    "for i in a:\n",
    "    x = cv2.imread(path+\"\\\\\"+i)\n",
    "    y = cv2.resize(x,(1100,600)) # We are resizing the img.\n",
    "    cv2.imshow(\"This is my first img\",y)\n",
    "    cv2.waitKey(2000)\n",
    "    cv2.destroyAllWindows()"
   ]
  },
  {
   "attachments": {},
   "cell_type": "markdown",
   "metadata": {},
   "source": [
    "Extracting array"
   ]
  },
  {
   "cell_type": "code",
   "execution_count": 31,
   "metadata": {},
   "outputs": [],
   "source": [
    "path =r\"\"\"D:\\WEB-D\\New folder\\img\"\"\"\n",
    "img_n = \"a.jpg\"\n",
    "x = cv2.imread(path+\"\\\\\"+img_n)\n",
    "y = cv2.resize(x,(1100,600)) # We are resizing the img.\n",
    "cv2.imshow(\"This is my first img\",y)\n",
    "cv2.waitKey(0)\n",
    "cv2.destroyAllWindows()"
   ]
  },
  {
   "cell_type": "markdown",
   "metadata": {},
   "source": []
  },
  {
   "cell_type": "code",
   "execution_count": 33,
   "metadata": {},
   "outputs": [
    {
     "data": {
      "text/plain": [
       "(600, 1100, 3)"
      ]
     },
     "execution_count": 33,
     "metadata": {},
     "output_type": "execute_result"
    }
   ],
   "source": [
    "y.shape"
   ]
  },
  {
   "attachments": {},
   "cell_type": "markdown",
   "metadata": {},
   "source": [
    "displaying blue array"
   ]
  },
  {
   "cell_type": "code",
   "execution_count": 34,
   "metadata": {},
   "outputs": [
    {
     "data": {
      "text/plain": [
       "array([[54, 59, 52, ..., 72, 59, 56],\n",
       "       [49, 53, 52, ..., 62, 65, 63],\n",
       "       [56, 49, 62, ..., 53, 57, 65],\n",
       "       ...,\n",
       "       [31, 31, 31, ..., 32, 32, 31],\n",
       "       [31, 31, 31, ..., 31, 31, 30],\n",
       "       [30, 31, 31, ..., 31, 32, 31]], dtype=uint8)"
      ]
     },
     "execution_count": 34,
     "metadata": {},
     "output_type": "execute_result"
    }
   ],
   "source": [
    "y[: ,: ,0]"
   ]
  },
  {
   "attachments": {},
   "cell_type": "markdown",
   "metadata": {},
   "source": [
    "displaying green array"
   ]
  },
  {
   "cell_type": "code",
   "execution_count": 35,
   "metadata": {},
   "outputs": [
    {
     "data": {
      "text/plain": [
       "array([[52, 57, 50, ..., 70, 57, 54],\n",
       "       [47, 51, 50, ..., 61, 64, 62],\n",
       "       [54, 47, 60, ..., 52, 57, 63],\n",
       "       ...,\n",
       "       [30, 30, 30, ..., 31, 31, 30],\n",
       "       [30, 30, 30, ..., 30, 30, 29],\n",
       "       [29, 30, 30, ..., 30, 31, 30]], dtype=uint8)"
      ]
     },
     "execution_count": 35,
     "metadata": {},
     "output_type": "execute_result"
    }
   ],
   "source": [
    "y[:,:,1]"
   ]
  },
  {
   "attachments": {},
   "cell_type": "markdown",
   "metadata": {},
   "source": [
    "converting our img into grey img (cv2.cvtcolor(img,cv2.Color_bgr2gray))"
   ]
  },
  {
   "cell_type": "code",
   "execution_count": 37,
   "metadata": {},
   "outputs": [],
   "source": [
    "path =r\"\"\"D:\\WEB-D\\New folder\\img\"\"\"\n",
    "img_n = \"a.jpg\"\n",
    "x = cv2.imread(path+\"\\\\\"+img_n)\n",
    "y = cv2.resize(x,(1100,600)) # We are resizing the img.\n",
    "z = cv2.cvtColor(y,cv2.COLOR_BGR2GRAY)\n",
    "cv2.imshow(\"This is my first img\",z)\n",
    "cv2.waitKey(0)\n",
    "cv2.destroyAllWindows()"
   ]
  },
  {
   "attachments": {},
   "cell_type": "markdown",
   "metadata": {},
   "source": [
    "extracting white part from it"
   ]
  },
  {
   "cell_type": "code",
   "execution_count": 38,
   "metadata": {},
   "outputs": [],
   "source": [
    "import numpy as np\n"
   ]
  },
  {
   "cell_type": "code",
   "execution_count": 45,
   "metadata": {},
   "outputs": [],
   "source": [
    "z1 = np.copy(z)\n",
    "z1[z1[:,:]<190]=0\n",
    "cv2.imshow(\"This is my first img\",z1)\n",
    "cv2.waitKey(0)\n",
    "cv2.destroyAllWindows()\n",
    "\n"
   ]
  },
  {
   "attachments": {},
   "cell_type": "markdown",
   "metadata": {},
   "source": [
    "colored"
   ]
  },
  {
   "cell_type": "code",
   "execution_count": 59,
   "metadata": {},
   "outputs": [],
   "source": [
    "path =r\"\"\"D:\\WEB-D\\New folder\\img\"\"\"\n",
    "img_n = \"d.jpg\"\n",
    "x = cv2.imread(path+\"\\\\\"+img_n)\n",
    "y = cv2.resize(x,(1100,600)) # We are resizing the img.\n",
    "y1 = np.copy(y)\n",
    "y1[(y1[:,:,0]>150) |(y1[:,:,1]<130) |(y1[:,:,2]<130) ] = 0\n",
    "cv2.imshow(\"This is my first img\",y1)\n",
    "cv2.waitKey(0)\n",
    "cv2.destroyAllWindows()"
   ]
  },
  {
   "cell_type": "code",
   "execution_count": null,
   "metadata": {},
   "outputs": [],
   "source": []
  }
 ],
 "metadata": {
  "kernelspec": {
   "display_name": "Python 3",
   "language": "python",
   "name": "python3"
  },
  "language_info": {
   "codemirror_mode": {
    "name": "ipython",
    "version": 3
   },
   "file_extension": ".py",
   "mimetype": "text/x-python",
   "name": "python",
   "nbconvert_exporter": "python",
   "pygments_lexer": "ipython3",
   "version": "3.10.6"
  },
  "orig_nbformat": 4
 },
 "nbformat": 4,
 "nbformat_minor": 2
}
